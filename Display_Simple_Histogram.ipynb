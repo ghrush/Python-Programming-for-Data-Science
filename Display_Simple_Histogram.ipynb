{
 "cells": [
  {
   "cell_type": "code",
   "execution_count": 1,
   "metadata": {},
   "outputs": [],
   "source": [
    "%matplotlib inline\n",
    "import numpy as np\n",
    "import matplotlib.pyplot as plt\n",
    "plt.style.use('seaborn-white')"
   ]
  },
  {
   "cell_type": "code",
   "execution_count": 2,
   "metadata": {},
   "outputs": [],
   "source": [
    "#Generate an array of 1000 random values.\n",
    "data = np.random.randn(1000)"
   ]
  },
  {
   "cell_type": "code",
   "execution_count": 25,
   "metadata": {},
   "outputs": [
    {
     "data": {
      "text/plain": [
       "array([ 0.53489396,  1.18093083,  0.40263873, -1.05383912])"
      ]
     },
     "execution_count": 25,
     "metadata": {},
     "output_type": "execute_result"
    }
   ],
   "source": [
    "#Examine a few lines of the array.\n",
    "data[1:5]"
   ]
  },
  {
   "cell_type": "code",
   "execution_count": 3,
   "metadata": {},
   "outputs": [
    {
     "data": {
      "text/plain": [
       "(array([  2.,  19.,  63., 120., 199., 235., 204., 102.,  46.,  10.]),\n",
       " array([-3.16661021, -2.5765227 , -1.98643519, -1.39634768, -0.80626018,\n",
       "        -0.21617267,  0.37391484,  0.96400235,  1.55408986,  2.14417737,\n",
       "         2.73426488]),\n",
       " <BarContainer object of 10 artists>)"
      ]
     },
     "execution_count": 3,
     "metadata": {},
     "output_type": "execute_result"
    },
    {
     "data": {
      "image/png": "[encoded data removed]",
      "text/plain": [
       "<Figure size 432x288 with 1 Axes>"
      ]
     },
     "metadata": {},
     "output_type": "display_data"
    }
   ],
   "source": [
    "#Display the data as a basic histogram.\n",
    "plt.hist(data)"
   ]
  },
  {
   "cell_type": "code",
   "execution_count": 5,
   "metadata": {},
   "outputs": [
    {
     "data": {
      "image/png": "[encoded data removed]",
      "text/plain": [
       "<Figure size 432x288 with 1 Axes>"
      ]
     },
     "metadata": {},
     "output_type": "display_data"
    }
   ],
   "source": [
    "#Customize the histogram.\n",
    "plt.hist(data, bins = 30,  alpha = 0.5,\n",
    "        histtype = 'stepfilled', color='steelblue',\n",
    "        edgecolor = 'none');"
   ]
  },
  {
   "cell_type": "code",
   "execution_count": null,
   "metadata": {},
   "outputs": [],
   "source": []
  },
  {
   "cell_type": "code",
   "execution_count": 12,
   "metadata": {},
   "outputs": [],
   "source": [
    "##Compare three histograms within a single plot."
   ]
  },
  {
   "cell_type": "code",
   "execution_count": 26,
   "metadata": {},
   "outputs": [],
   "source": [
    "#Generate three arrays filled with random values of various ranges.\n",
    "x1 = np.random.normal(0, 0.8, 1000)\n",
    "x2 = np.random.normal(-2, 1, 1000)\n",
    "x3 = np.random.normal(3, 2, 1000)"
   ]
  },
  {
   "cell_type": "code",
   "execution_count": 27,
   "metadata": {},
   "outputs": [],
   "source": [
    "#To shorten the code, define the histogram's type, bins, and opacity.\n",
    "kwargs = dict(histtype = 'stepfilled', alpha = 0.3, bins= 40)"
   ]
  },
  {
   "cell_type": "code",
   "execution_count": 28,
   "metadata": {},
   "outputs": [
    {
     "data": {
      "text/plain": [
       "(array([ 1.,  0.,  0.,  0.,  0.,  0.,  1.,  2.,  3.,  5.,  3.,  7., 10.,\n",
       "        13., 31., 24., 35., 39., 49., 66., 65., 67., 56., 66., 67., 65.,\n",
       "        69., 63., 44., 35., 28., 22., 22.,  7., 11., 14.,  6.,  1.,  0.,\n",
       "         3.]),\n",
       " array([-5.19046623, -4.84212235, -4.49377847, -4.14543459, -3.7970907 ,\n",
       "        -3.44874682, -3.10040294, -2.75205906, -2.40371518, -2.05537129,\n",
       "        -1.70702741, -1.35868353, -1.01033965, -0.66199577, -0.31365188,\n",
       "         0.034692  ,  0.38303588,  0.73137976,  1.07972364,  1.42806753,\n",
       "         1.77641141,  2.12475529,  2.47309917,  2.82144305,  3.16978694,\n",
       "         3.51813082,  3.8664747 ,  4.21481858,  4.56316246,  4.91150635,\n",
       "         5.25985023,  5.60819411,  5.95653799,  6.30488187,  6.65322576,\n",
       "         7.00156964,  7.34991352,  7.6982574 ,  8.04660128,  8.39494517,\n",
       "         8.74328905]),\n",
       " [<matplotlib.patches.Polygon at 0x7fa318d01eb8>])"
      ]
     },
     "execution_count": 28,
     "metadata": {},
     "output_type": "execute_result"
    },
    {
     "data": {
      "image/png": "[encoded data removed]",
      "text/plain": [
       "<Figure size 432x288 with 1 Axes>"
      ]
     },
     "metadata": {},
     "output_type": "display_data"
    }
   ],
   "source": [
    "#Display the data contained the three arrays as three \n",
    "#seperate histogram within a single plot.\n",
    "plt.hist(x1, **kwargs)\n",
    "plt.hist(x2, **kwargs)\n",
    "plt.hist(x3, **kwargs)"
   ]
  },
  {
   "cell_type": "code",
   "execution_count": null,
   "metadata": {},
   "outputs": [],
   "source": []
  },
  {
   "cell_type": "code",
   "execution_count": 16,
   "metadata": {},
   "outputs": [],
   "source": [
    "counts, bin_edges = np.histogram(data, bins = 5)"
   ]
  },
  {
   "cell_type": "code",
   "execution_count": 17,
   "metadata": {},
   "outputs": [
    {
     "name": "stdout",
     "output_type": "stream",
     "text": [
      "[ 21 183 434 306  56]\n"
     ]
    }
   ],
   "source": [
    "#Display the count of values contained within each bin.\n",
    "print(counts)"
   ]
  }
 ],
 "metadata": {
  "kernelspec": {
   "display_name": "Python 3",
   "language": "python",
   "name": "python3"
  },
  "language_info": {
   "codemirror_mode": {
    "name": "ipython",
    "version": 3
   },
   "file_extension": ".py",
   "mimetype": "text/x-python",
   "name": "python",
   "nbconvert_exporter": "python",
   "pygments_lexer": "ipython3",
   "version": "3.7.3"
  }
 },
 "nbformat": 4,
 "nbformat_minor": 4
}
